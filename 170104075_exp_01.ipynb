{
  "nbformat": 4,
  "nbformat_minor": 0,
  "metadata": {
    "accelerator": "GPU",
    "colab": {
      "name": "170104075_C_Dataset_Evaluation.ipynb",
      "provenance": [],
      "collapsed_sections": []
    },
    "kernelspec": {
      "display_name": "Python 3",
      "name": "python3"
    },
    "language_info": {
      "name": "python"
    }
  },
  "cells": [
    {
      "cell_type": "code",
      "metadata": {
        "id": "4UMKTgRoeqfW"
      },
      "source": [
        "import numpy as np\n",
        "import pandas as pd\n",
        "import torch\n",
        "import torch.nn as nn\n",
        "import torch.nn.functional as F\n",
        "import torch.optim as optim\n",
        "from torch.utils.data import Dataset\n",
        "from torch.utils.data.sampler import SubsetRandomSampler\n",
        "import matplotlib\n",
        "import matplotlib.pyplot as plt\n",
        "from PIL import Image\n",
        "from torchvision import datasets, transforms, models\n",
        "from torch.autograd import Variable\n",
        "from zipfile import ZipFile\n",
        "import os\n",
        "from os import path\n",
        "import shutil"
      ],
      "execution_count": 15,
      "outputs": []
    },
    {
      "cell_type": "code",
      "metadata": {
        "colab": {
          "base_uri": "https://localhost:8080/"
        },
        "id": "RManlEUee0_s",
        "outputId": "333e1433-f02b-46f0-fc09-4c18ac309751"
      },
      "source": [
        "from google.colab import drive\n",
        "drive.mount('/content/drive')"
      ],
      "execution_count": 16,
      "outputs": [
        {
          "output_type": "stream",
          "name": "stdout",
          "text": [
            "Drive already mounted at /content/drive; to attempt to forcibly remount, call drive.mount(\"/content/drive\", force_remount=True).\n"
          ]
        }
      ]
    },
    {
      "cell_type": "code",
      "metadata": {
        "id": "Eg79cGUXc-ah"
      },
      "source": [
        "url = '/content/drive/MyDrive/4.2/soft computing lab/assignment 2/'"
      ],
      "execution_count": 17,
      "outputs": []
    },
    {
      "cell_type": "code",
      "metadata": {
        "id": "HC1Mh0lIGogh"
      },
      "source": [
        "dataset_C = url + 'Dataset C.zip'\n",
        "with ZipFile(dataset_C, 'r') as zip:\n",
        "  zip.extractall()"
      ],
      "execution_count": 18,
      "outputs": []
    },
    {
      "cell_type": "code",
      "metadata": {
        "colab": {
          "base_uri": "https://localhost:8080/",
          "height": 221
        },
        "id": "xy-Cey0sf9Fz",
        "outputId": "9ea7e989-eedd-4d6d-cbf8-039ba879fc3c"
      },
      "source": [
        "PATH = '/content/'\n",
        "data_labels = pd.read_csv(PATH + 'training-c.csv', usecols = ['filename', 'digit'])\n",
        "print(data_labels.shape)\n",
        "data_labels.head()"
      ],
      "execution_count": 19,
      "outputs": [
        {
          "output_type": "stream",
          "name": "stdout",
          "text": [
            "(24298, 2)\n"
          ]
        },
        {
          "output_type": "execute_result",
          "data": {
            "text/html": [
              "<div>\n",
              "<style scoped>\n",
              "    .dataframe tbody tr th:only-of-type {\n",
              "        vertical-align: middle;\n",
              "    }\n",
              "\n",
              "    .dataframe tbody tr th {\n",
              "        vertical-align: top;\n",
              "    }\n",
              "\n",
              "    .dataframe thead th {\n",
              "        text-align: right;\n",
              "    }\n",
              "</style>\n",
              "<table border=\"1\" class=\"dataframe\">\n",
              "  <thead>\n",
              "    <tr style=\"text-align: right;\">\n",
              "      <th></th>\n",
              "      <th>filename</th>\n",
              "      <th>digit</th>\n",
              "    </tr>\n",
              "  </thead>\n",
              "  <tbody>\n",
              "    <tr>\n",
              "      <th>0</th>\n",
              "      <td>c00000.png</td>\n",
              "      <td>6</td>\n",
              "    </tr>\n",
              "    <tr>\n",
              "      <th>1</th>\n",
              "      <td>c00001.png</td>\n",
              "      <td>1</td>\n",
              "    </tr>\n",
              "    <tr>\n",
              "      <th>2</th>\n",
              "      <td>c00002.png</td>\n",
              "      <td>3</td>\n",
              "    </tr>\n",
              "    <tr>\n",
              "      <th>3</th>\n",
              "      <td>c00003.png</td>\n",
              "      <td>2</td>\n",
              "    </tr>\n",
              "    <tr>\n",
              "      <th>4</th>\n",
              "      <td>c00004.png</td>\n",
              "      <td>7</td>\n",
              "    </tr>\n",
              "  </tbody>\n",
              "</table>\n",
              "</div>"
            ],
            "text/plain": [
              "     filename  digit\n",
              "0  c00000.png      6\n",
              "1  c00001.png      1\n",
              "2  c00002.png      3\n",
              "3  c00003.png      2\n",
              "4  c00004.png      7"
            ]
          },
          "metadata": {},
          "execution_count": 19
        }
      ]
    },
    {
      "cell_type": "code",
      "metadata": {
        "id": "p1Q3k00iF4uT"
      },
      "source": [
        "TRAIN_PATH = url + 'Train'"
      ],
      "execution_count": 20,
      "outputs": []
    },
    {
      "cell_type": "code",
      "metadata": {
        "id": "hTJ2ocEEHVGA"
      },
      "source": [
        "TRAIN_PATH = url + 'Train'\n",
        "os.mkdir(TRAIN_PATH)\n",
        "\n",
        "def processImages(folder_name):\n",
        "  src = PATH + folder_name + '/'\n",
        "  dir_folders = os.listdir(src)\n",
        "  for dir_name in dir_folders:\n",
        "    file_name = os.path.join(src, dir_name)\n",
        "    if os.path.isfile(file_name):\n",
        "      shutil.copy(file_name, TRAIN_PATH) \n",
        "\n",
        "processImages('training-c')"
      ],
      "execution_count": null,
      "outputs": []
    },
    {
      "cell_type": "code",
      "metadata": {
        "id": "zmE05jA4kTDU"
      },
      "source": [
        "class Dataset(Dataset):\n",
        "    def __init__(self, df, root, transform=None):\n",
        "        self.data = df\n",
        "        self.root = root\n",
        "        self.transform = transform\n",
        "        \n",
        "    def __len__(self):\n",
        "        return len(self.data)\n",
        "    \n",
        "    def __getitem__(self, index):\n",
        "        item = self.data.iloc[index]\n",
        "        \n",
        "        path = self.root + \"/\" + item[0]\n",
        "        image = Image.open(path).convert('L')\n",
        "        label = item[1]\n",
        "        \n",
        "        if self.transform is not None:\n",
        "            image = self.transform(image)\n",
        "            \n",
        "        return image, label"
      ],
      "execution_count": 21,
      "outputs": []
    },
    {
      "cell_type": "code",
      "metadata": {
        "colab": {
          "base_uri": "https://localhost:8080/"
        },
        "id": "adaZ60Uik-eb",
        "outputId": "a0ff4846-c796-4291-81d1-6f95df9795cc"
      },
      "source": [
        "mean = [0.5,]\n",
        "std = [0.5, ]\n",
        "\n",
        "train_transform = transforms.Compose([\n",
        "    transforms.Resize(28),\n",
        "    transforms.ToTensor(),\n",
        "    transforms.Normalize(mean, std)\n",
        "])\n",
        "\n",
        "test_transform = transforms.Compose([\n",
        "        transforms.Resize(28),\n",
        "        transforms.ToTensor(),\n",
        "        transforms.Normalize(mean, std)\n",
        "])\n",
        "\n",
        "train_data  = Dataset(data_labels, TRAIN_PATH, train_transform)\n",
        "test_data = Dataset(data_labels, TRAIN_PATH, test_transform)\n",
        "\n",
        "print(\"Trainig Samples: \", len(train_data))"
      ],
      "execution_count": 22,
      "outputs": [
        {
          "output_type": "stream",
          "name": "stdout",
          "text": [
            "Trainig Samples:  24298\n"
          ]
        }
      ]
    },
    {
      "cell_type": "markdown",
      "metadata": {
        "id": "8htM9w2LmUVl"
      },
      "source": [
        "# **Base Parameters**"
      ]
    },
    {
      "cell_type": "code",
      "metadata": {
        "colab": {
          "base_uri": "https://localhost:8080/"
        },
        "id": "aHJnP7kA_BpJ",
        "outputId": "493579f0-2cf4-467e-8058-44fb7c44a453"
      },
      "source": [
        "batch_size = 20\n",
        "num_iters = 20000\n",
        "input_dim = 28*28\n",
        "num_hidden = 200\n",
        "output_dim = 10\n",
        "\n",
        "learning_rate = 0.01\n",
        "\n",
        "num_epochs = num_iters / (len(train_data) / batch_size)\n",
        "num_epochs = int(num_epochs)\n",
        "print(num_epochs)\n",
        "\n",
        "device = torch.device(\"cuda:0\" if torch.cuda.is_available() else \"cpu\")"
      ],
      "execution_count": 23,
      "outputs": [
        {
          "output_type": "stream",
          "name": "stdout",
          "text": [
            "16\n"
          ]
        }
      ]
    },
    {
      "cell_type": "code",
      "metadata": {
        "colab": {
          "base_uri": "https://localhost:8080/"
        },
        "id": "D2uASg6S_FnB",
        "outputId": "bdceef0b-62e0-468f-d67e-701c651fac31"
      },
      "source": [
        "test_size = 0.2\n",
        "num_train = len(train_data)\n",
        "indices = list(range(num_train))\n",
        "np.random.shuffle(indices)\n",
        "split = int(np.floor(test_size * num_train))\n",
        "train_idx, test_idx = indices[split:], indices[:split]\n",
        "\n",
        "train_sampler = SubsetRandomSampler(train_idx)\n",
        "test_sampler = SubsetRandomSampler(test_idx)\n",
        "\n",
        "train_loader = torch.utils.data.DataLoader(\n",
        "    train_data, batch_size=batch_size,\n",
        "    sampler=train_sampler)\n",
        "\n",
        "test_loader = torch.utils.data.DataLoader(\n",
        "    test_data, batch_size=batch_size,\n",
        "    sampler=test_sampler)\n",
        "\n",
        "print(\"Train dataloader:{}\".format(len(train_loader)))\n",
        "print(\"Test dataloader:{}\".format(len(test_loader)))"
      ],
      "execution_count": 24,
      "outputs": [
        {
          "output_type": "stream",
          "name": "stdout",
          "text": [
            "Train dataloader:972\n",
            "Test dataloader:243\n"
          ]
        }
      ]
    },
    {
      "cell_type": "code",
      "metadata": {
        "id": "ft0pEFPM_KjZ"
      },
      "source": [
        "class DeepNeuralNetworkModel(nn.Module):\n",
        "    def __init__(self, input_size, num_classes, num_hidden):\n",
        "        super().__init__()\n",
        "       \n",
        "        self.linear_1 = nn.Linear(input_size, num_hidden)\n",
        "        self.relu_1 = nn.ReLU()\n",
        " \n",
        "        self.linear_2 = nn.Linear(num_hidden, num_hidden)\n",
        "        self.relu_2 = nn.ReLU()\n",
        "\n",
        "        self.linear_3 = nn.Linear(num_hidden, num_hidden)\n",
        "        self.relu_3 = nn.ReLU()\n",
        " \n",
        "        self.linear_4 = nn.Linear(num_hidden, num_hidden)\n",
        "        self.relu_4 = nn.ReLU()\n",
        " \n",
        "        self.linear_5= nn.Linear(num_hidden, num_hidden)\n",
        "        self.relu_5= nn.ReLU()\n",
        " \n",
        "        self.linear_6 = nn.Linear(num_hidden, num_hidden)\n",
        "        self.relu_6 = nn.ReLU() \n",
        "      \n",
        " \n",
        "       \n",
        "\n",
        "        \n",
        " \n",
        "        self.linear_out = nn.Linear(num_hidden, num_classes)\n",
        " \n",
        "    def forward(self, x):\n",
        "        out  = self.linear_1(x)\n",
        "        out = self.relu_1(out)\n",
        "        \n",
        "        out  = self.linear_2(out)\n",
        "        out = self.relu_2(out)\n",
        "\n",
        "        out  = self.linear_3(out)\n",
        "        out = self.relu_3(out)\n",
        " \n",
        "        out  = self.linear_4(out)\n",
        "        out = self.relu_4(out)\n",
        " \n",
        "        out  = self.linear_5(out)\n",
        "        out = self.relu_5(out)\n",
        " \n",
        "        out  = self.linear_6(out)\n",
        "        out = self.relu_6(out)      \n",
        " \n",
        "       \n",
        " \n",
        "      \n",
        "\n",
        "        \n",
        "        probas  = self.linear_out(out)\n",
        "        return probas"
      ],
      "execution_count": 25,
      "outputs": []
    },
    {
      "cell_type": "code",
      "metadata": {
        "colab": {
          "base_uri": "https://localhost:8080/"
        },
        "id": "tha-LbwZ_OOC",
        "outputId": "0ef40358-1a28-4621-de81-066381da07d5"
      },
      "source": [
        "model = DeepNeuralNetworkModel(input_size = input_dim, num_classes = output_dim, num_hidden = num_hidden)\n",
        "\n",
        "model.to(device)"
      ],
      "execution_count": 26,
      "outputs": [
        {
          "output_type": "execute_result",
          "data": {
            "text/plain": [
              "DeepNeuralNetworkModel(\n",
              "  (linear_1): Linear(in_features=784, out_features=200, bias=True)\n",
              "  (relu_1): ReLU()\n",
              "  (linear_2): Linear(in_features=200, out_features=200, bias=True)\n",
              "  (relu_2): ReLU()\n",
              "  (linear_3): Linear(in_features=200, out_features=200, bias=True)\n",
              "  (relu_3): ReLU()\n",
              "  (linear_4): Linear(in_features=200, out_features=200, bias=True)\n",
              "  (relu_4): ReLU()\n",
              "  (linear_5): Linear(in_features=200, out_features=200, bias=True)\n",
              "  (relu_5): ReLU()\n",
              "  (linear_6): Linear(in_features=200, out_features=200, bias=True)\n",
              "  (relu_6): ReLU()\n",
              "  (linear_out): Linear(in_features=200, out_features=10, bias=True)\n",
              ")"
            ]
          },
          "metadata": {},
          "execution_count": 26
        }
      ]
    },
    {
      "cell_type": "code",
      "metadata": {
        "id": "NjqWUeSs_R_n"
      },
      "source": [
        "criterion = nn.CrossEntropyLoss()\n",
        "optimizer = torch.optim.SGD(model.parameters(), lr = learning_rate)"
      ],
      "execution_count": 27,
      "outputs": []
    },
    {
      "cell_type": "code",
      "metadata": {
        "colab": {
          "base_uri": "https://localhost:8080/"
        },
        "id": "Tnf-1pTg_Xax",
        "outputId": "252a8584-e6ac-42e3-c960-ddfcc1c1d636"
      },
      "source": [
        "iteration_loss = []\n",
        "iter = 0\n",
        "for epoch in range(num_epochs):\n",
        "    print('Epoch: ', epoch + 1)\n",
        "    for i, (images, labels) in enumerate(train_loader):\n",
        "\n",
        "        images = images.view(-1, 28*28).to(device)\n",
        "        labels = labels.to(device)\n",
        "\n",
        "        optimizer.zero_grad()\n",
        "\n",
        "        outputs = model(images) \n",
        "\n",
        "        loss = criterion(outputs, labels)\n",
        "\n",
        "        loss.backward()\n",
        "\n",
        "        optimizer.step()\n",
        "\n",
        "        iter += 1\n",
        "\n",
        "        if iter % 500 == 0 :        \n",
        "            correct = 0\n",
        "            total = 0\n",
        "            for images, labels in test_loader:\n",
        "               \n",
        "                images = images.view(-1, 28*28).to(device)\n",
        "\n",
        "                outputs = model(images)\n",
        "\n",
        "                _, predicted = torch.max(outputs, 1)\n",
        "\n",
        "                total += labels.size(0)\n",
        "\n",
        "                if torch.cuda.is_available():\n",
        "                    correct += (predicted.cpu() == labels.cpu()).sum() \n",
        "                else:\n",
        "                    correct += (predicted == labels).sum()\n",
        "\n",
        "            accuracy = 100 * correct.item() / total\n",
        "\n",
        "            iteration_loss.append(loss.item())\n",
        "            print('Iteration: {}. Loss: {}. Accuracy: {}'.format(iter, loss.item(), accuracy))"
      ],
      "execution_count": 28,
      "outputs": [
        {
          "output_type": "stream",
          "name": "stdout",
          "text": [
            "Epoch:  1\n",
            "Iteration: 500. Loss: 2.290172576904297. Accuracy: 10.002058036633052\n",
            "Epoch:  2\n",
            "Iteration: 1000. Loss: 2.305429220199585. Accuracy: 9.63161144268368\n",
            "Iteration: 1500. Loss: 2.3019614219665527. Accuracy: 9.878575838649928\n",
            "Epoch:  3\n",
            "Iteration: 2000. Loss: 2.2994399070739746. Accuracy: 9.837415105988887\n",
            "Iteration: 2500. Loss: 2.3009982109069824. Accuracy: 9.734513274336283\n",
            "Epoch:  4\n",
            "Iteration: 3000. Loss: 2.3066558837890625. Accuracy: 9.878575838649928\n",
            "Iteration: 3500. Loss: 2.310382127761841. Accuracy: 10.290183165260341\n",
            "Epoch:  5\n",
            "Iteration: 4000. Loss: 2.3033883571624756. Accuracy: 9.796254373327844\n",
            "Iteration: 4500. Loss: 2.302509307861328. Accuracy: 9.878575838649928\n",
            "Epoch:  6\n",
            "Iteration: 5000. Loss: 2.3021090030670166. Accuracy: 9.734513274336283\n",
            "Iteration: 5500. Loss: 2.3036048412323. Accuracy: 9.837415105988887\n",
            "Epoch:  7\n",
            "Iteration: 6000. Loss: 2.308711528778076. Accuracy: 9.878575838649928\n",
            "Iteration: 6500. Loss: 2.303990125656128. Accuracy: 9.878575838649928\n",
            "Epoch:  8\n",
            "Iteration: 7000. Loss: 2.3007378578186035. Accuracy: 10.290183165260341\n",
            "Iteration: 7500. Loss: 2.3046929836273193. Accuracy: 9.796254373327844\n",
            "Epoch:  9\n",
            "Iteration: 8000. Loss: 2.304460048675537. Accuracy: 10.640049392879193\n",
            "Iteration: 8500. Loss: 2.2994847297668457. Accuracy: 9.734513274336283\n",
            "Epoch:  10\n",
            "Iteration: 9000. Loss: 2.2994391918182373. Accuracy: 9.734513274336283\n",
            "Iteration: 9500. Loss: 2.2970378398895264. Accuracy: 9.734513274336283\n",
            "Epoch:  11\n",
            "Iteration: 10000. Loss: 2.307356595993042. Accuracy: 9.734513274336283\n",
            "Iteration: 10500. Loss: 2.3039605617523193. Accuracy: 9.981477670302532\n",
            "Epoch:  12\n",
            "Iteration: 11000. Loss: 2.300011396408081. Accuracy: 10.290183165260341\n",
            "Iteration: 11500. Loss: 2.303220748901367. Accuracy: 9.878575838649928\n",
            "Epoch:  13\n",
            "Iteration: 12000. Loss: 2.3013672828674316. Accuracy: 12.903889689236468\n",
            "Iteration: 12500. Loss: 2.304790496826172. Accuracy: 12.67750565960074\n",
            "Epoch:  14\n",
            "Iteration: 13000. Loss: 2.297792434692383. Accuracy: 9.796254373327844\n",
            "Iteration: 13500. Loss: 2.3038980960845947. Accuracy: 15.35295328256843\n",
            "Epoch:  15\n",
            "Iteration: 14000. Loss: 2.304879665374756. Accuracy: 10.290183165260341\n",
            "Iteration: 14500. Loss: 2.3004703521728516. Accuracy: 9.837415105988887\n",
            "Epoch:  16\n",
            "Iteration: 15000. Loss: 2.30230975151062. Accuracy: 9.796254373327844\n",
            "Iteration: 15500. Loss: 2.296729564666748. Accuracy: 9.878575838649928\n"
          ]
        }
      ]
    },
    {
      "cell_type": "code",
      "metadata": {
        "id": "y8qS7uum_hZa",
        "colab": {
          "base_uri": "https://localhost:8080/",
          "height": 316
        },
        "outputId": "463d6abc-0b20-4c75-d9f7-7a16ba545e5a"
      },
      "source": [
        "print (iteration_loss)\n",
        "plt.plot(iteration_loss)\n",
        "plt.ylabel('Loss')\n",
        "plt.xlabel('Iteration')\n",
        "plt.show()"
      ],
      "execution_count": 29,
      "outputs": [
        {
          "output_type": "stream",
          "name": "stdout",
          "text": [
            "[2.290172576904297, 2.305429220199585, 2.3019614219665527, 2.2994399070739746, 2.3009982109069824, 2.3066558837890625, 2.310382127761841, 2.3033883571624756, 2.302509307861328, 2.3021090030670166, 2.3036048412323, 2.308711528778076, 2.303990125656128, 2.3007378578186035, 2.3046929836273193, 2.304460048675537, 2.2994847297668457, 2.2994391918182373, 2.2970378398895264, 2.307356595993042, 2.3039605617523193, 2.300011396408081, 2.303220748901367, 2.3013672828674316, 2.304790496826172, 2.297792434692383, 2.3038980960845947, 2.304879665374756, 2.3004703521728516, 2.30230975151062, 2.296729564666748]\n"
          ]
        },
        {
          "output_type": "display_data",
          "data": {
            "image/png": "[encoded data removed]",
            "text/plain": [
              "<Figure size 432x288 with 1 Axes>"
            ]
          },
          "metadata": {
            "needs_background": "light"
          }
        }
      ]
    },
    {
      "cell_type": "code",
      "metadata": {
        "id": "2ACvjC-0_z33"
      },
      "source": [
        "torch.save(model.state_dict(), '/content/drive/MyDrive/4.2/soft computing lab/assignment 2/model_base.pkl')"
      ],
      "execution_count": null,
      "outputs": []
    },
    {
      "cell_type": "code",
      "metadata": {
        "id": "xAAwh0YH_87F"
      },
      "source": [
        "model.load_state_dict(torch.load('/content/drive/MyDrive/4.2/soft computing lab/assignment 2/model_base.pkl'))"
      ],
      "execution_count": null,
      "outputs": []
    },
    {
      "cell_type": "markdown",
      "metadata": {
        "id": "hGvZwoiH-r5s"
      },
      "source": [
        "## **Changing** **Parameters**"
      ]
    },
    {
      "cell_type": "code",
      "metadata": {
        "id": "IGG3l4vrmkI3",
        "colab": {
          "base_uri": "https://localhost:8080/"
        },
        "outputId": "e32c4564-9dd6-4b28-f1fa-07e11d3b49eb"
      },
      "source": [
        "batch_size = 35\n",
        "num_iters = 80000\n",
        "input_dim = 28*28\n",
        "num_hidden = 200\n",
        "output_dim = 10\n",
        "\n",
        "learning_rate = 0.03\n",
        "\n",
        "num_epochs = num_iters / (len(train_data) / batch_size)\n",
        "num_epochs = int(num_epochs)\n",
        "print(num_epochs)\n",
        "\n",
        "device = torch.device(\"cuda:0\" if torch.cuda.is_available() else \"cpu\")"
      ],
      "execution_count": 30,
      "outputs": [
        {
          "output_type": "stream",
          "name": "stdout",
          "text": [
            "115\n"
          ]
        }
      ]
    },
    {
      "cell_type": "code",
      "metadata": {
        "id": "lsSesapsltZF",
        "colab": {
          "base_uri": "https://localhost:8080/"
        },
        "outputId": "c6a62d73-f6af-4ceb-b0c7-0968f07fea47"
      },
      "source": [
        "test_size = 0.2\n",
        "num_train = len(train_data)\n",
        "indices = list(range(num_train))\n",
        "np.random.shuffle(indices)\n",
        "split = int(np.floor(test_size * num_train))\n",
        "train_idx, test_idx = indices[split:], indices[:split]\n",
        "\n",
        "train_sampler = SubsetRandomSampler(train_idx)\n",
        "test_sampler = SubsetRandomSampler(test_idx)\n",
        "\n",
        "train_loader = torch.utils.data.DataLoader(\n",
        "    train_data, batch_size=batch_size,\n",
        "    sampler=train_sampler)\n",
        "\n",
        "test_loader = torch.utils.data.DataLoader(\n",
        "    test_data, batch_size=batch_size,\n",
        "    sampler=test_sampler)\n",
        "\n",
        "print(\"Train dataloader:{}\".format(len(train_loader)))\n",
        "print(\"Test dataloader:{}\".format(len(test_loader)))"
      ],
      "execution_count": 31,
      "outputs": [
        {
          "output_type": "stream",
          "name": "stdout",
          "text": [
            "Train dataloader:556\n",
            "Test dataloader:139\n"
          ]
        }
      ]
    },
    {
      "cell_type": "code",
      "metadata": {
        "id": "6jCcU8giniGS"
      },
      "source": [
        "class DeepNeuralNetworkModel(nn.Module):\n",
        "    def __init__(self, input_size, num_classes, num_hidden):\n",
        "        super().__init__()\n",
        "       \n",
        "        self.linear_1 = nn.Linear(input_size, num_hidden)\n",
        "        self.relu_1 = nn.ReLU()\n",
        " \n",
        "        self.linear_2 = nn.Linear(num_hidden, num_hidden)\n",
        "        self.relu_2 = nn.ReLU()\n",
        " \n",
        "        \n",
        "      \n",
        " \n",
        "       \n",
        "\n",
        "        \n",
        " \n",
        "        self.linear_out = nn.Linear(num_hidden, num_classes)\n",
        " \n",
        "    def forward(self, x):\n",
        "        out  = self.linear_1(x)\n",
        "        out = self.relu_1(out)\n",
        "        \n",
        "        out  = self.linear_2(out)\n",
        "        out = self.relu_2(out)\n",
        " \n",
        "       \n",
        " \n",
        "       \n",
        " \n",
        "      \n",
        "\n",
        "        \n",
        "        probas  = self.linear_out(out)\n",
        "        return probas"
      ],
      "execution_count": 32,
      "outputs": []
    },
    {
      "cell_type": "code",
      "metadata": {
        "id": "Q23HotHio42L",
        "colab": {
          "base_uri": "https://localhost:8080/"
        },
        "outputId": "98c3dd72-c6da-4326-bf2d-0c5cdc582726"
      },
      "source": [
        "model = DeepNeuralNetworkModel(input_size = input_dim, num_classes = output_dim, num_hidden = num_hidden)\n",
        "\n",
        "model.to(device)"
      ],
      "execution_count": 33,
      "outputs": [
        {
          "output_type": "execute_result",
          "data": {
            "text/plain": [
              "DeepNeuralNetworkModel(\n",
              "  (linear_1): Linear(in_features=784, out_features=200, bias=True)\n",
              "  (relu_1): ReLU()\n",
              "  (linear_2): Linear(in_features=200, out_features=200, bias=True)\n",
              "  (relu_2): ReLU()\n",
              "  (linear_out): Linear(in_features=200, out_features=10, bias=True)\n",
              ")"
            ]
          },
          "metadata": {},
          "execution_count": 33
        }
      ]
    },
    {
      "cell_type": "code",
      "metadata": {
        "id": "V1YagXSipEth"
      },
      "source": [
        "criterion = nn.CrossEntropyLoss()\n",
        "optimizer = torch.optim.SGD(model.parameters(), lr = learning_rate)"
      ],
      "execution_count": 34,
      "outputs": []
    },
    {
      "cell_type": "code",
      "metadata": {
        "id": "6VJ_sYCMp2l9",
        "colab": {
          "base_uri": "https://localhost:8080/"
        },
        "outputId": "6e6d5d38-e7a1-4022-9308-c1165b21af36"
      },
      "source": [
        "iteration_loss = []\n",
        "iter = 0\n",
        "for epoch in range(num_epochs):\n",
        "    print('Epoch: ', epoch + 1)\n",
        "    for i, (images, labels) in enumerate(train_loader):\n",
        "\n",
        "        images = images.view(-1, 28*28).to(device)\n",
        "        labels = labels.to(device)\n",
        "\n",
        "        optimizer.zero_grad()\n",
        "\n",
        "        outputs = model(images) \n",
        "\n",
        "        loss = criterion(outputs, labels)\n",
        "\n",
        "        loss.backward()\n",
        "\n",
        "        optimizer.step()\n",
        "\n",
        "        iter += 1\n",
        "\n",
        "        if iter % 500 == 0 :        \n",
        "            correct = 0\n",
        "            total = 0\n",
        "            for images, labels in test_loader:\n",
        "               \n",
        "                images = images.view(-1, 28*28).to(device)\n",
        "\n",
        "                outputs = model(images)\n",
        "\n",
        "                _, predicted = torch.max(outputs, 1)\n",
        "\n",
        "                total += labels.size(0)\n",
        "\n",
        "                if torch.cuda.is_available():\n",
        "                    correct += (predicted.cpu() == labels.cpu()).sum() \n",
        "                else:\n",
        "                    correct += (predicted == labels).sum()\n",
        "\n",
        "            accuracy = 100 * correct.item() / total\n",
        "\n",
        "            iteration_loss.append(loss.item())\n",
        "            print('Iteration: {}. Loss: {}. Accuracy: {}'.format(iter, loss.item(), accuracy))"
      ],
      "execution_count": 35,
      "outputs": [
        {
          "output_type": "stream",
          "name": "stdout",
          "text": [
            "Epoch:  1\n",
            "Iteration: 500. Loss: 2.301783561706543. Accuracy: 12.986211154558552\n",
            "Epoch:  2\n",
            "Iteration: 1000. Loss: 2.2602291107177734. Accuracy: 12.698086025931262\n",
            "Epoch:  3\n",
            "Iteration: 1500. Loss: 2.1743104457855225. Accuracy: 21.568223914385676\n",
            "Epoch:  4\n",
            "Iteration: 2000. Loss: 2.2560319900512695. Accuracy: 28.730191397406873\n",
            "Epoch:  5\n",
            "Iteration: 2500. Loss: 2.1840996742248535. Accuracy: 24.120189339370242\n",
            "Epoch:  6\n",
            "Iteration: 3000. Loss: 2.3771281242370605. Accuracy: 19.777732043630376\n",
            "Epoch:  7\n",
            "Iteration: 3500. Loss: 2.0932366847991943. Accuracy: 29.409343486314057\n",
            "Epoch:  8\n",
            "Iteration: 4000. Loss: 1.9607391357421875. Accuracy: 30.294299238526445\n",
            "Epoch:  9\n",
            "Iteration: 4500. Loss: 1.9551444053649902. Accuracy: 28.215682239143856\n",
            "Iteration: 5000. Loss: 1.8144567012786865. Accuracy: 26.71331549701585\n",
            "Epoch:  10\n",
            "Iteration: 5500. Loss: 1.8661017417907715. Accuracy: 36.46840913768265\n",
            "Epoch:  11\n",
            "Iteration: 6000. Loss: 1.8304632902145386. Accuracy: 37.95019551348014\n",
            "Epoch:  12\n",
            "Iteration: 6500. Loss: 1.7683817148208618. Accuracy: 40.66680386910887\n",
            "Epoch:  13\n",
            "Iteration: 7000. Loss: 1.6813231706619263. Accuracy: 37.703231117513894\n",
            "Epoch:  14\n",
            "Iteration: 7500. Loss: 1.8382858037948608. Accuracy: 38.91747273101461\n",
            "Epoch:  15\n",
            "Iteration: 8000. Loss: 1.7362194061279297. Accuracy: 35.33648898950401\n",
            "Epoch:  16\n",
            "Iteration: 8500. Loss: 1.9302057027816772. Accuracy: 40.11113397818481\n",
            "Epoch:  17\n",
            "Iteration: 9000. Loss: 1.573096513748169. Accuracy: 45.23564519448446\n",
            "Epoch:  18\n",
            "Iteration: 9500. Loss: 1.7867052555084229. Accuracy: 43.34225149207656\n",
            "Iteration: 10000. Loss: 1.2687467336654663. Accuracy: 49.557522123893804\n",
            "Epoch:  19\n",
            "Iteration: 10500. Loss: 1.7074400186538696. Accuracy: 35.72751594978391\n",
            "Epoch:  20\n",
            "Iteration: 11000. Loss: 1.5582700967788696. Accuracy: 36.57131096933525\n",
            "Epoch:  21\n",
            "Iteration: 11500. Loss: 1.4145617485046387. Accuracy: 50.60712080675036\n",
            "Epoch:  22\n",
            "Iteration: 12000. Loss: 1.3962583541870117. Accuracy: 48.19921794607944\n",
            "Epoch:  23\n",
            "Iteration: 12500. Loss: 1.3869192600250244. Accuracy: 56.760650339576046\n",
            "Epoch:  24\n",
            "Iteration: 13000. Loss: 1.5170583724975586. Accuracy: 57.336900596830624\n",
            "Epoch:  25\n",
            "Iteration: 13500. Loss: 1.6903035640716553. Accuracy: 51.30685326198806\n",
            "Epoch:  26\n",
            "Iteration: 14000. Loss: 1.4224053621292114. Accuracy: 42.1897509775674\n",
            "Epoch:  27\n",
            "Iteration: 14500. Loss: 1.4639277458190918. Accuracy: 53.36488989504013\n",
            "Iteration: 15000. Loss: 1.3182295560836792. Accuracy: 57.70734719078\n",
            "Epoch:  28\n",
            "Iteration: 15500. Loss: 1.311629295349121. Accuracy: 62.13212595184194\n",
            "Epoch:  29\n",
            "Iteration: 16000. Loss: 1.3988361358642578. Accuracy: 58.4070796460177\n",
            "Epoch:  30\n",
            "Iteration: 16500. Loss: 1.1740736961364746. Accuracy: 59.62132125951842\n",
            "Epoch:  31\n",
            "Iteration: 17000. Loss: 1.268982172012329. Accuracy: 62.214447417164024\n",
            "Epoch:  32\n",
            "Iteration: 17500. Loss: 1.0230271816253662. Accuracy: 64.62235027783494\n",
            "Epoch:  33\n",
            "Iteration: 18000. Loss: 1.671241044998169. Accuracy: 52.64457707347191\n",
            "Epoch:  34\n",
            "Iteration: 18500. Loss: 1.0472468137741089. Accuracy: 58.38649927968718\n",
            "Epoch:  35\n",
            "Iteration: 19000. Loss: 1.4867725372314453. Accuracy: 54.86725663716814\n",
            "Epoch:  36\n",
            "Iteration: 19500. Loss: 1.1318814754486084. Accuracy: 61.20600946696851\n",
            "Iteration: 20000. Loss: 0.8673659563064575. Accuracy: 62.93476023873225\n",
            "Epoch:  37\n",
            "Iteration: 20500. Loss: 1.0038235187530518. Accuracy: 53.65301502366742\n",
            "Epoch:  38\n",
            "Iteration: 21000. Loss: 0.8890507817268372. Accuracy: 64.88989504013172\n",
            "Epoch:  39\n",
            "Iteration: 21500. Loss: 0.9043420553207397. Accuracy: 63.8814570899362\n",
            "Epoch:  40\n",
            "Iteration: 22000. Loss: 0.7324411273002625. Accuracy: 65.26034163408109\n",
            "Epoch:  41\n",
            "Iteration: 22500. Loss: 0.9773997664451599. Accuracy: 63.61391232763943\n",
            "Epoch:  42\n",
            "Iteration: 23000. Loss: 0.6432550549507141. Accuracy: 69.12945050421898\n",
            "Epoch:  43\n",
            "Iteration: 23500. Loss: 1.0619136095046997. Accuracy: 63.53159086231735\n",
            "Epoch:  44\n",
            "Iteration: 24000. Loss: 1.18246591091156. Accuracy: 63.92261782259724\n",
            "Epoch:  45\n",
            "Iteration: 24500. Loss: 0.8366190195083618. Accuracy: 68.57378061329491\n",
            "Iteration: 25000. Loss: 0.7507981061935425. Accuracy: 68.07985182136242\n",
            "Epoch:  46\n",
            "Iteration: 25500. Loss: 0.8543998599052429. Accuracy: 68.26507511833711\n",
            "Epoch:  47\n",
            "Iteration: 26000. Loss: 1.0152336359024048. Accuracy: 71.29038896892365\n",
            "Epoch:  48\n",
            "Iteration: 26500. Loss: 1.8119120597839355. Accuracy: 58.098374151059886\n",
            "Epoch:  49\n",
            "Iteration: 27000. Loss: 0.8212339878082275. Accuracy: 67.27721753447211\n",
            "Epoch:  50\n",
            "Iteration: 27500. Loss: 1.1965217590332031. Accuracy: 67.83288742539617\n",
            "Epoch:  51\n",
            "Iteration: 28000. Loss: 0.7995914816856384. Accuracy: 66.8656102078617\n",
            "Epoch:  52\n",
            "Iteration: 28500. Loss: 0.6552430391311646. Accuracy: 72.25766618645812\n",
            "Epoch:  53\n",
            "Iteration: 29000. Loss: 0.8186735510826111. Accuracy: 68.57378061329491\n",
            "Epoch:  54\n",
            "Iteration: 29500. Loss: 0.4274565875530243. Accuracy: 71.4344515332373\n",
            "Iteration: 30000. Loss: 0.5500752329826355. Accuracy: 73.10146120600946\n",
            "Epoch:  55\n",
            "Iteration: 30500. Loss: 1.0151692628860474. Accuracy: 66.96851203951431\n",
            "Epoch:  56\n",
            "Iteration: 31000. Loss: 0.8401480913162231. Accuracy: 63.92261782259724\n",
            "Epoch:  57\n",
            "Iteration: 31500. Loss: 1.3760762214660645. Accuracy: 64.49886807985182\n",
            "Epoch:  58\n",
            "Iteration: 32000. Loss: 0.6592429876327515. Accuracy: 72.2370858201276\n",
            "Epoch:  59\n",
            "Iteration: 32500. Loss: 0.3712903559207916. Accuracy: 73.55422926528092\n",
            "Epoch:  60\n",
            "Iteration: 33000. Loss: 0.6099006533622742. Accuracy: 74.624408314468\n",
            "Epoch:  61\n",
            "Iteration: 33500. Loss: 0.5348386764526367. Accuracy: 74.3157028195102\n",
            "Epoch:  62\n",
            "Iteration: 34000. Loss: 0.9668843746185303. Accuracy: 70.38485285038074\n",
            "Epoch:  63\n",
            "Iteration: 34500. Loss: 0.7320839762687683. Accuracy: 71.18748713727105\n",
            "Iteration: 35000. Loss: 1.0481536388397217. Accuracy: 74.10989915620497\n",
            "Epoch:  64\n",
            "Iteration: 35500. Loss: 0.8376312851905823. Accuracy: 66.0629759209714\n",
            "Epoch:  65\n",
            "Iteration: 36000. Loss: 0.4078640937805176. Accuracy: 73.71887219592509\n",
            "Epoch:  66\n",
            "Iteration: 36500. Loss: 0.5471810698509216. Accuracy: 72.7310146120601\n",
            "Epoch:  67\n",
            "Iteration: 37000. Loss: 0.7272411584854126. Accuracy: 75.75632846264664\n",
            "Epoch:  68\n",
            "Iteration: 37500. Loss: 0.5812204480171204. Accuracy: 73.90409549289977\n",
            "Epoch:  69\n",
            "Iteration: 38000. Loss: 1.140799641609192. Accuracy: 72.87507717637374\n",
            "Epoch:  70\n",
            "Iteration: 38500. Loss: 0.8384659290313721. Accuracy: 76.57954311586747\n",
            "Epoch:  71\n",
            "Iteration: 39000. Loss: 0.3740674555301666. Accuracy: 76.55896274953695\n",
            "Epoch:  72\n",
            "Iteration: 39500. Loss: 0.5541203022003174. Accuracy: 76.18851615558756\n",
            "Iteration: 40000. Loss: 0.7275773882865906. Accuracy: 74.29512245317967\n",
            "Epoch:  73\n",
            "Iteration: 40500. Loss: 0.4589858055114746. Accuracy: 76.90882897715579\n",
            "Epoch:  74\n",
            "Iteration: 41000. Loss: 0.4544547498226166. Accuracy: 75.85923029429924\n",
            "Epoch:  75\n",
            "Iteration: 41500. Loss: 0.5166890621185303. Accuracy: 76.86766824449475\n",
            "Epoch:  76\n",
            "Iteration: 42000. Loss: 0.5704887509346008. Accuracy: 77.56740069973246\n",
            "Epoch:  77\n",
            "Iteration: 42500. Loss: 0.5936633348464966. Accuracy: 75.38588186869727\n",
            "Epoch:  78\n",
            "Iteration: 43000. Loss: 0.6304312348365784. Accuracy: 75.03601564107841\n",
            "Epoch:  79\n",
            "Iteration: 43500. Loss: 0.8481041789054871. Accuracy: 72.71043424572957\n",
            "Epoch:  80\n",
            "Iteration: 44000. Loss: 0.43725189566612244. Accuracy: 77.0117308088084\n",
            "Epoch:  81\n",
            "Iteration: 44500. Loss: 0.7994512319564819. Accuracy: 72.71043424572957\n",
            "Iteration: 45000. Loss: 0.8601189255714417. Accuracy: 72.91623790903478\n",
            "Epoch:  82\n",
            "Iteration: 45500. Loss: 0.7319371104240417. Accuracy: 76.74418604651163\n",
            "Epoch:  83\n",
            "Iteration: 46000. Loss: 0.5558905005455017. Accuracy: 74.9331138094258\n",
            "Epoch:  84\n",
            "Iteration: 46500. Loss: 0.4497629702091217. Accuracy: 79.06976744186046\n",
            "Epoch:  85\n",
            "Iteration: 47000. Loss: 0.5344317555427551. Accuracy: 78.43177608561433\n",
            "Epoch:  86\n",
            "Iteration: 47500. Loss: 0.5157886147499084. Accuracy: 76.53838238320643\n",
            "Epoch:  87\n",
            "Iteration: 48000. Loss: 0.44577038288116455. Accuracy: 72.97797900802634\n",
            "Epoch:  88\n",
            "Iteration: 48500. Loss: 0.2789849638938904. Accuracy: 79.31673183782671\n",
            "Epoch:  89\n",
            "Iteration: 49000. Loss: 0.5260240435600281. Accuracy: 79.9958839267339\n",
            "Epoch:  90\n",
            "Iteration: 49500. Loss: 0.49704688787460327. Accuracy: 77.75262399670714\n",
            "Iteration: 50000. Loss: 0.42478689551353455. Accuracy: 78.45235645194485\n",
            "Epoch:  91\n",
            "Iteration: 50500. Loss: 0.24614962935447693. Accuracy: 79.37847293681827\n",
            "Epoch:  92\n",
            "Iteration: 51000. Loss: 0.4567912817001343. Accuracy: 77.9172669273513\n",
            "Epoch:  93\n",
            "Iteration: 51500. Loss: 0.4849349558353424. Accuracy: 78.43177608561433\n",
            "Epoch:  94\n",
            "Iteration: 52000. Loss: 0.7419547438621521. Accuracy: 76.04445359127392\n",
            "Epoch:  95\n",
            "Iteration: 52500. Loss: 0.36918771266937256. Accuracy: 75.59168553200247\n",
            "Epoch:  96\n",
            "Iteration: 53000. Loss: 0.47579213976860046. Accuracy: 75.20065857172257\n",
            "Epoch:  97\n",
            "Iteration: 53500. Loss: 0.303567498922348. Accuracy: 80.75735748096317\n",
            "Epoch:  98\n",
            "Iteration: 54000. Loss: 0.36231911182403564. Accuracy: 79.19324963984359\n",
            "Epoch:  99\n",
            "Iteration: 54500. Loss: 0.4435916244983673. Accuracy: 80.28400905536118\n",
            "Iteration: 55000. Loss: 0.3788353204727173. Accuracy: 78.8022226795637\n",
            "Epoch:  100\n",
            "Iteration: 55500. Loss: 0.6497398018836975. Accuracy: 77.69088289771558\n",
            "Epoch:  101\n",
            "Iteration: 56000. Loss: 0.6316182017326355. Accuracy: 80.0987857583865\n",
            "Epoch:  102\n",
            "Iteration: 56500. Loss: 0.5336123704910278. Accuracy: 81.2924470055567\n",
            "Epoch:  103\n",
            "Iteration: 57000. Loss: 0.4290770888328552. Accuracy: 79.64601769911505\n",
            "Epoch:  104\n",
            "Iteration: 57500. Loss: 0.22968532145023346. Accuracy: 79.9958839267339\n",
            "Epoch:  105\n",
            "Iteration: 58000. Loss: 0.44336065649986267. Accuracy: 80.24284832270014\n",
            "Epoch:  106\n",
            "Iteration: 58500. Loss: 0.41187575459480286. Accuracy: 79.64601769911505\n",
            "Epoch:  107\n",
            "Iteration: 59000. Loss: 0.4425133764743805. Accuracy: 81.16896480757357\n",
            "Epoch:  108\n",
            "Iteration: 59500. Loss: 0.43686941266059875. Accuracy: 80.34575015435274\n",
            "Iteration: 60000. Loss: 0.6874547600746155. Accuracy: 74.80963161144268\n",
            "Epoch:  109\n",
            "Iteration: 60500. Loss: 0.6443046927452087. Accuracy: 79.35789257048775\n",
            "Epoch:  110\n",
            "Iteration: 61000. Loss: 0.3904605507850647. Accuracy: 76.35315908623174\n",
            "Epoch:  111\n",
            "Iteration: 61500. Loss: 0.8153709173202515. Accuracy: 72.01070179049186\n",
            "Epoch:  112\n",
            "Iteration: 62000. Loss: 0.37680742144584656. Accuracy: 80.24284832270014\n",
            "Epoch:  113\n",
            "Iteration: 62500. Loss: 0.556499183177948. Accuracy: 81.55999176785346\n",
            "Epoch:  114\n",
            "Iteration: 63000. Loss: 0.4212694764137268. Accuracy: 78.57583864992797\n",
            "Epoch:  115\n",
            "Iteration: 63500. Loss: 0.2276599258184433. Accuracy: 80.36633052068326\n"
          ]
        }
      ]
    },
    {
      "cell_type": "code",
      "metadata": {
        "id": "1AIS0RVwq8ul",
        "colab": {
          "base_uri": "https://localhost:8080/",
          "height": 316
        },
        "outputId": "874130d0-060d-427b-f25c-799f6c49934d"
      },
      "source": [
        "print (iteration_loss)\n",
        "plt.plot(iteration_loss)\n",
        "plt.ylabel('Loss')\n",
        "plt.xlabel('Iteration')\n",
        "plt.show()"
      ],
      "execution_count": 36,
      "outputs": [
        {
          "output_type": "stream",
          "name": "stdout",
          "text": [
            "[2.301783561706543, 2.2602291107177734, 2.1743104457855225, 2.2560319900512695, 2.1840996742248535, 2.3771281242370605, 2.0932366847991943, 1.9607391357421875, 1.9551444053649902, 1.8144567012786865, 1.8661017417907715, 1.8304632902145386, 1.7683817148208618, 1.6813231706619263, 1.8382858037948608, 1.7362194061279297, 1.9302057027816772, 1.573096513748169, 1.7867052555084229, 1.2687467336654663, 1.7074400186538696, 1.5582700967788696, 1.4145617485046387, 1.3962583541870117, 1.3869192600250244, 1.5170583724975586, 1.6903035640716553, 1.4224053621292114, 1.4639277458190918, 1.3182295560836792, 1.311629295349121, 1.3988361358642578, 1.1740736961364746, 1.268982172012329, 1.0230271816253662, 1.671241044998169, 1.0472468137741089, 1.4867725372314453, 1.1318814754486084, 0.8673659563064575, 1.0038235187530518, 0.8890507817268372, 0.9043420553207397, 0.7324411273002625, 0.9773997664451599, 0.6432550549507141, 1.0619136095046997, 1.18246591091156, 0.8366190195083618, 0.7507981061935425, 0.8543998599052429, 1.0152336359024048, 1.8119120597839355, 0.8212339878082275, 1.1965217590332031, 0.7995914816856384, 0.6552430391311646, 0.8186735510826111, 0.4274565875530243, 0.5500752329826355, 1.0151692628860474, 0.8401480913162231, 1.3760762214660645, 0.6592429876327515, 0.3712903559207916, 0.6099006533622742, 0.5348386764526367, 0.9668843746185303, 0.7320839762687683, 1.0481536388397217, 0.8376312851905823, 0.4078640937805176, 0.5471810698509216, 0.7272411584854126, 0.5812204480171204, 1.140799641609192, 0.8384659290313721, 0.3740674555301666, 0.5541203022003174, 0.7275773882865906, 0.4589858055114746, 0.4544547498226166, 0.5166890621185303, 0.5704887509346008, 0.5936633348464966, 0.6304312348365784, 0.8481041789054871, 0.43725189566612244, 0.7994512319564819, 0.8601189255714417, 0.7319371104240417, 0.5558905005455017, 0.4497629702091217, 0.5344317555427551, 0.5157886147499084, 0.44577038288116455, 0.2789849638938904, 0.5260240435600281, 0.49704688787460327, 0.42478689551353455, 0.24614962935447693, 0.4567912817001343, 0.4849349558353424, 0.7419547438621521, 0.36918771266937256, 0.47579213976860046, 0.303567498922348, 0.36231911182403564, 0.4435916244983673, 0.3788353204727173, 0.6497398018836975, 0.6316182017326355, 0.5336123704910278, 0.4290770888328552, 0.22968532145023346, 0.44336065649986267, 0.41187575459480286, 0.4425133764743805, 0.43686941266059875, 0.6874547600746155, 0.6443046927452087, 0.3904605507850647, 0.8153709173202515, 0.37680742144584656, 0.556499183177948, 0.4212694764137268, 0.2276599258184433]\n"
          ]
        },
        {
          "output_type": "display_data",
          "data": {
            "image/png": "[encoded data removed]",
            "text/plain": [
              "<Figure size 432x288 with 1 Axes>"
            ]
          },
          "metadata": {
            "needs_background": "light"
          }
        }
      ]
    },
    {
      "cell_type": "code",
      "metadata": {
        "id": "kIJ2Of8a4sYy"
      },
      "source": [
        "torch.save(model.state_dict(), '/content/drive/MyDrive/4.2/soft computing lab/assignment 2/model_16.pkl')"
      ],
      "execution_count": 37,
      "outputs": []
    },
    {
      "cell_type": "code",
      "metadata": {
        "id": "XwVZ14qIVCjK"
      },
      "source": [
        "model.load_state_dict(torch.load('/content/drive/MyDrive/4.2/soft computing lab/assignment 2/model_16.pkl'))"
      ],
      "execution_count": null,
      "outputs": []
    }
  ]
}